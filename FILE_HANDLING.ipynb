{
  "nbformat": 4,
  "nbformat_minor": 0,
  "metadata": {
    "colab": {
      "provenance": []
    },
    "kernelspec": {
      "name": "python3",
      "display_name": "Python 3"
    },
    "language_info": {
      "name": "python"
    }
  },
  "cells": [
    {
      "cell_type": "markdown",
      "source": [
        "#THEORITICAL  QUESTIONS"
      ],
      "metadata": {
        "id": "8VOTDkxEfW8q"
      }
    },
    {
      "cell_type": "markdown",
      "source": [
        "#Q1.What is the difference between interpreted and compiled languages?"
      ],
      "metadata": {
        "id": "wh9wcP13fdcm"
      }
    },
    {
      "cell_type": "markdown",
      "source": [
        "->\n",
        "Interpreted languages execute code line by line at runtime, with the interpreter translating and running the code directly (e.g., Python). Compiled languages, on the other hand, translate the entire code into machine code beforehand, creating an executable file before execution (e.g., C++)."
      ],
      "metadata": {
        "id": "jiownPttf5i9"
      }
    },
    {
      "cell_type": "markdown",
      "source": [
        "#Q2.What is exception handling in Python?"
      ],
      "metadata": {
        "id": "8U0MQDC8f9Dl"
      }
    },
    {
      "cell_type": "markdown",
      "source": [
        "->Exception handling in Python helps manage errors by detecting and catching exceptions, preventing the program from crashing. It allows for controlled responses to errors, ensuring the program continues running smoothly."
      ],
      "metadata": {
        "id": "OqUy6FT6gDWJ"
      }
    },
    {
      "cell_type": "markdown",
      "source": [
        "#Q3.What is the purpose of the finally block in exception handling?"
      ],
      "metadata": {
        "id": "szSc49C7gM8e"
      }
    },
    {
      "cell_type": "markdown",
      "source": [
        "->The purpose of the finally block in exception handling is to define a section of code that always executes even if an exception is raised."
      ],
      "metadata": {
        "id": "pMWuP_s2gR8V"
      }
    },
    {
      "cell_type": "markdown",
      "source": [
        "#Q4.What is logging in Python?"
      ],
      "metadata": {
        "id": "VjZNTiGAgV7p"
      }
    },
    {
      "cell_type": "markdown",
      "source": [
        "->\n",
        "Logging in Python is a built-in module that keeps  records of events and messages during program execution. It helps track errors, monitor events, and provides useful insights for debugging"
      ],
      "metadata": {
        "id": "oyvPpufqgZtA"
      }
    },
    {
      "cell_type": "markdown",
      "source": [
        "#Q5.What is the significance of the del method in Python?"
      ],
      "metadata": {
        "id": "CmBSPcx6gopo"
      }
    },
    {
      "cell_type": "markdown",
      "source": [
        "->\n",
        "The __del__ method in Python is called when an object is about to be deleted. It allows for cleanup tasks, such as releasing resources or closing files, before the object is removed from memory."
      ],
      "metadata": {
        "id": "oQW39H8OgtIE"
      }
    },
    {
      "cell_type": "markdown",
      "source": [
        "#Q6.What is the difference between import and from ... import in Python?"
      ],
      "metadata": {
        "id": "cNsVhxYdg2sQ"
      }
    },
    {
      "cell_type": "markdown",
      "source": [
        "->\n",
        "The import statement brings in the whole module, so you need to use the module name to call its functions. The from ... import statement brings in only specific parts, so you can use them directly without the module name."
      ],
      "metadata": {
        "id": "52nQwWaXg7gW"
      }
    },
    {
      "cell_type": "markdown",
      "source": [
        "#Q7.How can you handle multiple exceptions in Python?"
      ],
      "metadata": {
        "id": "8RkelLJrhTqv"
      }
    },
    {
      "cell_type": "markdown",
      "source": [
        "->You can handle multiple exceptions in Python by using multiple except blocks, each for a different type of error."
      ],
      "metadata": {
        "id": "gsx5FGiyhYXP"
      }
    },
    {
      "cell_type": "markdown",
      "source": [
        "#Q8.What is the purpose of the with statement when handling files in Python?"
      ],
      "metadata": {
        "id": "AveGJXSxhd2R"
      }
    },
    {
      "cell_type": "markdown",
      "source": [
        "->The \"with\" statement in Python is used to handle files safely and automatically. It makes sure the file is properly opened and closed."
      ],
      "metadata": {
        "id": "2Xz7EABZhh4D"
      }
    },
    {
      "cell_type": "markdown",
      "source": [
        "#Q9. What is the difference between multithreading and multiprocessing?"
      ],
      "metadata": {
        "id": "icZhEitmhtkC"
      }
    },
    {
      "cell_type": "markdown",
      "source": [
        "->\n",
        "Multithreading allows multiple tasks to run in the same process, sharing memory, making it lightweight . Multiprocessing runs tasks in separate processes with their own memory, offering better performance."
      ],
      "metadata": {
        "id": "DXjEuPYzh2UT"
      }
    },
    {
      "cell_type": "markdown",
      "source": [
        "#Q10.What are the advantages of using logging in a program?"
      ],
      "metadata": {
        "id": "VWg9LYOmiF9h"
      }
    },
    {
      "cell_type": "markdown",
      "source": [
        "-> Logging helps us track what happens in our program, find errors, and understand its behavior. It saves important messages and allows us to control the details."
      ],
      "metadata": {
        "id": "wsBCBsMziJ6I"
      }
    },
    {
      "cell_type": "markdown",
      "source": [
        "#Q11.What is memory management in Python?"
      ],
      "metadata": {
        "id": "Pmkx1r2kiNHm"
      }
    },
    {
      "cell_type": "markdown",
      "source": [
        "->Memory management in Python means the program automatically manages memory. It uses memory when needed and frees it up when it's no longer needed. Python takes care of cleaning up unused objects to avoid memory problems."
      ],
      "metadata": {
        "id": "J7qybENqiRAu"
      }
    },
    {
      "cell_type": "markdown",
      "source": [
        "#Q12.What are the basic steps involved in exception handling in Python?"
      ],
      "metadata": {
        "id": "f6MJ8n9aic7A"
      }
    },
    {
      "cell_type": "markdown",
      "source": [
        "->In Python, exception handling involves three basic steps: first, try to do something risky; second, if an error happens, catch it with an \"except\" block; and third, optionally, clean up or do something after with a \"finally\" block."
      ],
      "metadata": {
        "id": "ucRaRq7UihxQ"
      }
    },
    {
      "cell_type": "markdown",
      "source": [
        "#Q13.Why is memory management important in Python?"
      ],
      "metadata": {
        "id": "z7WUxrxHisrY"
      }
    },
    {
      "cell_type": "markdown",
      "source": [
        "->Memory management in Python automatically manages memory. It uses memory when needed and frees it up when it's no longer needed. Python takes care of cleaning up unused objects to avoid memory problems."
      ],
      "metadata": {
        "id": "RRz6Ys_SiwuG"
      }
    },
    {
      "cell_type": "markdown",
      "source": [
        "#Q14.What is the role of try and except in exception handling?"
      ],
      "metadata": {
        "id": "s5cI8EZmi2x0"
      }
    },
    {
      "cell_type": "markdown",
      "source": [
        "->Try Block: we write the code that might cause an error inside the try block.\n",
        "\n",
        "Except Block: If an error occurs in the try block, the program jumps to the except block to handle the error."
      ],
      "metadata": {
        "id": "SZ-q63rli82j"
      }
    },
    {
      "cell_type": "markdown",
      "source": [
        "#Q15.How does Python's garbage collection system work?"
      ],
      "metadata": {
        "id": "2anEP1CCjDxy"
      }
    },
    {
      "cell_type": "markdown",
      "source": [
        "->\n",
        "Python's garbage collection automatically cleans up unused memory. It tracks objects and when they are no longer needed, it frees the memory. This helps prevent memory issues by removing things that are no longer in use, like old variables or objects."
      ],
      "metadata": {
        "id": "cyv7MlbujIQF"
      }
    },
    {
      "cell_type": "markdown",
      "source": [
        "#Q16.What is the purpose of the else block in exception handling?"
      ],
      "metadata": {
        "id": "JqEsvf_7jRQz"
      }
    },
    {
      "cell_type": "markdown",
      "source": [
        "->It is an optional block in which if no error occurs, the code inside the else block runs."
      ],
      "metadata": {
        "id": "n1PNVtYUjVKa"
      }
    },
    {
      "cell_type": "markdown",
      "source": [
        "#Q17.What are the common logging levels in Python?"
      ],
      "metadata": {
        "id": "51k6mJlQjZZ-"
      }
    },
    {
      "cell_type": "markdown",
      "source": [
        "->The common logging levels in Python are:\n",
        "\n",
        "DEBUG: For detailed information.\n",
        "\n",
        "INFO: For general messages.\n",
        "\n",
        "WARNING: For something that isn't ideal.\n",
        "\n",
        "ERROR: For problems.\n",
        "\n",
        "CRITICAL: For serious issues that need immediate attention."
      ],
      "metadata": {
        "id": "ETIcwxv_jlPX"
      }
    },
    {
      "cell_type": "markdown",
      "source": [
        "#Q18.What is the difference between os.fork() and multiprocessing in Python?"
      ],
      "metadata": {
        "id": "-vVgd8dMjrPe"
      }
    },
    {
      "cell_type": "markdown",
      "source": [
        "->os.fork() creates a new process by copying the current process, but both share the same memory. multiprocessing in Python, on the other hand, creates separate processes with their own memory, making it better for tasks that need more performance."
      ],
      "metadata": {
        "id": "AeZgu7DNjvbZ"
      }
    },
    {
      "cell_type": "markdown",
      "source": [
        "#Q19.What is the importance of closing a file in Python?"
      ],
      "metadata": {
        "id": "PPhnJBB0j73e"
      }
    },
    {
      "cell_type": "markdown",
      "source": [
        "->Closing a file in Python is important because it frees up memory, saves any changes made, prevents data loss, and lets other programs use the file. It ensures the file is properly saved."
      ],
      "metadata": {
        "id": "khyed7I4kBM7"
      }
    },
    {
      "cell_type": "markdown",
      "source": [
        "#Q20.What is the difference between file.read() and file.readline() in Python?"
      ],
      "metadata": {
        "id": "N3EqHLiFkFPL"
      }
    },
    {
      "cell_type": "markdown",
      "source": [
        "->file.read() reads the entire file at once and gives you all the content as one big string. file.readline() reads the file line by line, giving you each line as a separate string, which is useful for large files."
      ],
      "metadata": {
        "id": "W2ffL9_FkJGc"
      }
    },
    {
      "cell_type": "markdown",
      "source": [
        "#Q21.What is the logging module in Python used for?"
      ],
      "metadata": {
        "id": "ZQ6hwSqKkS1t"
      }
    },
    {
      "cell_type": "markdown",
      "source": [
        "->Logging in Python  keeps records of events and messages during program execution. It helps track errors, monitor events, and provides useful insights for debugging."
      ],
      "metadata": {
        "id": "_0B2ZVvQki5d"
      }
    },
    {
      "cell_type": "markdown",
      "source": [
        "#Q22.What is the os module in Python used for in file handling?"
      ],
      "metadata": {
        "id": "aGCLhtjHklbD"
      }
    },
    {
      "cell_type": "markdown",
      "source": [
        "->The os module in Python helps us interact with the operating system. In file handling, it allows us to create, delete, rename, or check files and directories."
      ],
      "metadata": {
        "id": "L4iV9h8ukqqn"
      }
    },
    {
      "cell_type": "markdown",
      "source": [
        "#Q23.What are the challenges associated with memory management in Python?"
      ],
      "metadata": {
        "id": "lP0qYnOFkwYc"
      }
    },
    {
      "cell_type": "markdown",
      "source": [
        "-> Memory management in Python can be tricky because unused memory might not be released, objects can point to each other, and Python uses more memory than other programming languages."
      ],
      "metadata": {
        "id": "4XEb6b94k1rQ"
      }
    },
    {
      "cell_type": "markdown",
      "source": [
        "#Q24. How do you raise an exception manually in Python?"
      ],
      "metadata": {
        "id": "ffvRTbYbk7TZ"
      }
    },
    {
      "cell_type": "markdown",
      "source": [
        "->We use the raise keyword to raise an exception in python followed by the type of exception we want to raise."
      ],
      "metadata": {
        "id": "QoIrYPyjk_mv"
      }
    },
    {
      "cell_type": "markdown",
      "source": [
        "#Q25.Why is it important to use multithreading in certain applications?"
      ],
      "metadata": {
        "id": "l76ZaugmlD5C"
      }
    },
    {
      "cell_type": "markdown",
      "source": [
        "-> Multithreading allows multiple tasks to run in the same process, sharing memory, making it lightweight."
      ],
      "metadata": {
        "id": "ZH70Av2dlLuU"
      }
    },
    {
      "cell_type": "markdown",
      "source": [
        "#PRACTICAL  QUESTIONS"
      ],
      "metadata": {
        "id": "ZWPytQCDlibB"
      }
    },
    {
      "cell_type": "code",
      "source": [
        "#Q1. How can you open a file for writing in Python and write a string to it?\n",
        "file = open(\"file.txt\", \"w\")\n",
        "file.write(\"First line\")\n",
        "file.write(\"\\nSecond line\")\n",
        "file.close()"
      ],
      "metadata": {
        "id": "wSDm1X9elkz0"
      },
      "execution_count": 1,
      "outputs": []
    },
    {
      "cell_type": "code",
      "source": [
        "#Q2.Write a Python program to read the contents of a file and print each line?\n",
        "with open(\"file.txt\", \"r\") as file:\n",
        "    for i in file:\n",
        "        print(i)"
      ],
      "metadata": {
        "colab": {
          "base_uri": "https://localhost:8080/"
        },
        "id": "lkmu165Ll75k",
        "outputId": "08bd1f83-c048-41a6-9be1-283b29b01712"
      },
      "execution_count": 2,
      "outputs": [
        {
          "output_type": "stream",
          "name": "stdout",
          "text": [
            "First line\n",
            "\n",
            "Second line\n"
          ]
        }
      ]
    },
    {
      "cell_type": "code",
      "source": [
        "#Q3.How would you handle a case where the file doesn't exist while trying to open it for reading?\n",
        "try:\n",
        "    with open(\"file.txt\", \"r\") as file:\n",
        "        for i in file:\n",
        "            print(i)\n",
        "except FileNotFoundError:\n",
        "    print(\"FileNotFoundError.\")"
      ],
      "metadata": {
        "id": "sNKnJ_vMmL2f"
      },
      "execution_count": null,
      "outputs": []
    },
    {
      "cell_type": "code",
      "source": [
        "#Q4.Write a Python script that reads from one file and writes its content to another file.\n",
        "o= \"output.txt\"\n",
        "try:\n",
        "    with open(\"file.txt\", \"r\") as file, open(o, \"w\") as output:\n",
        "        c = file.read()\n",
        "        output.write(c)\n",
        "    print(\"The file is Copied.\")\n",
        "except FileNotFoundError:\n",
        "    print(\"FileNotFoundError\")\n",
        "except Exception as e:\n",
        "    print(\"Error found!!!\")"
      ],
      "metadata": {
        "colab": {
          "base_uri": "https://localhost:8080/"
        },
        "id": "y0lYFHqlmZwD",
        "outputId": "412ce0d6-63ea-4bcf-84ad-b2c4b3f12a0f"
      },
      "execution_count": 3,
      "outputs": [
        {
          "output_type": "stream",
          "name": "stdout",
          "text": [
            "Copied.\n"
          ]
        }
      ]
    },
    {
      "cell_type": "code",
      "source": [
        "#Q5.How would you catch and handle division by zero error in Python?\n",
        "try:\n",
        "    num = 10\n",
        "    deno = 0\n",
        "    result = num/ den\n",
        "    print(\"The result is\" + result)\n",
        "except ZeroDivisionError:\n",
        "    print(\"ZeroDivisionError\")\n",
        "except ValueError:\n",
        "    print(\"ValueError\")\n"
      ],
      "metadata": {
        "id": "22aTdbScnR3L"
      },
      "execution_count": null,
      "outputs": []
    },
    {
      "cell_type": "code",
      "source": [
        "#Q6.Write a Python program that logs an error message to a log file when a division by zero exception occurs?\n",
        "import logging\n",
        "logging.basicConfig(\n",
        "    filename='error.log',\n",
        "    level=logging.ERROR,\n",
        "    format='%(asctime)s - %(levelname)s - %(message)s'\n",
        ")\n",
        "def divide_numbers(a, b):\n",
        "    try:\n",
        "        result = a / b\n",
        "        return result\n",
        "    except ZeroDivisionError as e:\n",
        "        logging.error(\"Division by zero error occurred.\")\n",
        "        print(\"Error . \")\n",
        "        return None\n",
        "if __name__ == \"__main__\":\n",
        "    num1 = 20\n",
        "    num2 = 0\n",
        "    divide_numbers(num1, num2)\n"
      ],
      "metadata": {
        "colab": {
          "base_uri": "https://localhost:8080/"
        },
        "id": "t06rOhsYnn0o",
        "outputId": "d727504d-2297-4aa4-f4ae-d140021bd7e6"
      },
      "execution_count": 4,
      "outputs": [
        {
          "output_type": "stream",
          "name": "stderr",
          "text": [
            "ERROR:root:Division by zero error occurred.\n"
          ]
        },
        {
          "output_type": "stream",
          "name": "stdout",
          "text": [
            "Error . \n"
          ]
        }
      ]
    },
    {
      "cell_type": "code",
      "source": [
        "#Q7.How do you log information at different levels (INFO, ERROR, WARNING) in Python using the logging module?\n",
        "import logging\n",
        "logging.basicConfig(\n",
        "    filename='application.log',\n",
        "    level=logging.DEBUG,\n",
        "    format='%(asctime)s - %(levelname)s - %(message)s'\n",
        ")\n",
        "logging.info(\"INFO message.\\n\")\n",
        "logging.warning(\"WARNING message.\\n\")\n",
        "logging.error(\"ERROR message.\\n\")\n"
      ],
      "metadata": {
        "colab": {
          "base_uri": "https://localhost:8080/"
        },
        "id": "GbAsvbQvnzVc",
        "outputId": "aa18be22-6faa-44de-ab6d-2b78f3952689"
      },
      "execution_count": 6,
      "outputs": [
        {
          "output_type": "stream",
          "name": "stderr",
          "text": [
            "WARNING:root:WARNING message.\n",
            "\n",
            "ERROR:root:ERROR message.\n",
            "\n"
          ]
        }
      ]
    },
    {
      "cell_type": "code",
      "source": [
        "#Q8.Write a program to handle a file opening error using exception handling.\n",
        "def open(filename):\n",
        "    try:\n",
        "        with open(filename, 'r') as file:\n",
        "            content = file.read()\n",
        "            print(\"File content:\")\n",
        "            print(content)\n",
        "    except FileNotFoundError:\n",
        "        print(\"FileNotFoundError\")\n",
        "    except PermissionError:\n",
        "        print(\"PermissionError.\")\n",
        "    except Exception as e:\n",
        "        print(\"Error found!!!\")\n",
        "if __name__ == \"__main__\":\n",
        "  file= \"file.txt\"\n",
        "  open(file)"
      ],
      "metadata": {
        "colab": {
          "base_uri": "https://localhost:8080/"
        },
        "id": "jurOv7-noBJs",
        "outputId": "586508a0-941c-416a-dc1d-a0ca64191a4f"
      },
      "execution_count": 8,
      "outputs": [
        {
          "output_type": "stream",
          "name": "stdout",
          "text": [
            "Error found!!!\n"
          ]
        }
      ]
    },
    {
      "cell_type": "code",
      "source": [
        "#Q9.How can you read a file line by line and store its content in a list in Python?\n",
        "def read(filename):\n",
        "    try:\n",
        "        with open(filename, 'r') as file:\n",
        "            lines = file.readlines()\n",
        "        return [line.strip() for line in lines]\n",
        "    except FileNotFoundError:\n",
        "        print(\"The file does not exist.\")\n",
        "        return []\n",
        "    except Exception as e:\n",
        "        print(\"Error\")\n",
        "        return []\n",
        "del open\n",
        "with open(\"file.txt\", \"w\") as file:\n",
        "    file.write(\"Write first line.\")\n",
        "    file.write(\"\\nSecond line\")\n",
        "if __name__ == \"__main__\":\n",
        "    content = read(\"file.txt\")\n",
        "    print(\"File content as a list:\")\n",
        "    print(content)\n"
      ],
      "metadata": {
        "colab": {
          "base_uri": "https://localhost:8080/"
        },
        "id": "OY-peEWnoQfG",
        "outputId": "af3ca3e7-d2dd-4658-cf7e-e9b3021802f6"
      },
      "execution_count": 9,
      "outputs": [
        {
          "output_type": "stream",
          "name": "stdout",
          "text": [
            "File content as a list:\n",
            "['Write first line.', 'Second line']\n"
          ]
        }
      ]
    },
    {
      "cell_type": "code",
      "source": [
        "#Q10.How can you append data to an existing file in Python?\n",
        "def add(filename, data):\n",
        "    try:\n",
        "        with open(filename, 'a') as file:\n",
        "            file.write(data + '\\n')\n",
        "    except Exception as e:\n",
        "        print(\"Error\")\n",
        "if __name__ == \"__main__\":\n",
        "    filename = \"file.txt\"\n",
        "    with open(filename, 'w') as file:\n",
        "        file.write(\"First line\\n\")\n",
        "    add(filename, \"second line.\")\n",
        "    add(filename, \"Third line.\")\n",
        "    with open(filename, 'r') as file:\n",
        "        content = file.read()\n",
        "    print(\"File content after appending:\")\n",
        "    print(content)\n"
      ],
      "metadata": {
        "colab": {
          "base_uri": "https://localhost:8080/"
        },
        "id": "ZJ_wpO2Toedr",
        "outputId": "f13bd189-b7af-4a7e-82c1-6811c3905df7"
      },
      "execution_count": 10,
      "outputs": [
        {
          "output_type": "stream",
          "name": "stdout",
          "text": [
            "File content after appending:\n",
            "First line\n",
            "second line.\n",
            "Third line.\n",
            "\n"
          ]
        }
      ]
    },
    {
      "cell_type": "code",
      "source": [
        "#Q11.Write a Python program that uses a try-except block to handle an error when attempting to access a dictionary key that doesn't exist?\n",
        "def abc(dict, key):\n",
        "    try:\n",
        "        value = dict[key]\n",
        "        print(\" The value for \" + key + \" is \" + str(value))\n",
        "    except KeyError:\n",
        "        print(\"KeyError found.\")\n",
        "dict = {\n",
        "    \"name\": \"Bhuvan\",\n",
        "    \"age\": 20,\n",
        "}\n",
        "if __name__ == \"__main__\":\n",
        "    abc(dict, \"name\")\n",
        "    abc(dict, \"City\")\n"
      ],
      "metadata": {
        "colab": {
          "base_uri": "https://localhost:8080/"
        },
        "id": "9HKDs7oWoude",
        "outputId": "6512804d-ab63-4ac9-9b46-37eaa338d966"
      },
      "execution_count": 11,
      "outputs": [
        {
          "output_type": "stream",
          "name": "stdout",
          "text": [
            " The value for name is Bhuvan\n",
            "KeyError found.\n"
          ]
        }
      ]
    },
    {
      "cell_type": "code",
      "source": [
        "#Q12. Write a program that demonstrates using multiple except blocks to handle different types of exceptions.\n",
        "def divide_numbers(a, b):\n",
        "    try:\n",
        "        result = a / b\n",
        "        print(\"Result: \"+ str(result))\n",
        "    except ZeroDivisionError:\n",
        "        print(\"ZeroDivisionError.\")\n",
        "    except TypeError:\n",
        "        print(\"TypeError.\")\n",
        "    except Exception as e:\n",
        "        print(\"Error\")\n",
        "if __name__ == \"__main__\":\n",
        "    divide_numbers(5, 5)\n",
        "    divide_numbers(5, 0)\n",
        "    divide_numbers(\"5\", 'a')\n"
      ],
      "metadata": {
        "colab": {
          "base_uri": "https://localhost:8080/"
        },
        "id": "ygOPPnCVpFTa",
        "outputId": "60df9a76-1811-486f-f019-6fd552214ad0"
      },
      "execution_count": 12,
      "outputs": [
        {
          "output_type": "stream",
          "name": "stdout",
          "text": [
            "Result: 1.0\n",
            "ZeroDivisionError.\n",
            "TypeError.\n"
          ]
        }
      ]
    },
    {
      "cell_type": "code",
      "source": [
        "#Q13.How would you check if a file exists before attempting to read it in Python?\n",
        "import os\n",
        "def readFile(filename):\n",
        "    if os.path.exists(filename):\n",
        "        with open(filename, 'r') as file:\n",
        "            content = file.read()\n",
        "        print(content)\n",
        "    else:\n",
        "        print(\"File not exist\")\n",
        "filename = \"op.txt\"\n",
        "readFile(filename)\n"
      ],
      "metadata": {
        "colab": {
          "base_uri": "https://localhost:8080/"
        },
        "id": "8SAI0EbSpVIn",
        "outputId": "c94b7a57-3b5f-438d-f2a9-8d825ca208d7"
      },
      "execution_count": 15,
      "outputs": [
        {
          "output_type": "stream",
          "name": "stdout",
          "text": [
            "File not exist\n"
          ]
        }
      ]
    },
    {
      "cell_type": "code",
      "source": [
        "#Q14. Write a program that uses the logging module to log both informational and error messages.\n",
        "import logging\n",
        "logging.basicConfig(\n",
        "    level=logging.DEBUG,\n",
        "    format='%(asctime)s - %(levelname)s - %(message)s',\n",
        "    handlers=[\n",
        "        logging.FileHandler('app.log'),\n",
        "        logging.StreamHandler()\n",
        "    ]\n",
        ")\n",
        "logging.info(\"Informational message.\")\n",
        "try:\n",
        "    result = 10 / 0\n",
        "except ZeroDivisionError as e:\n",
        "    logging.error(\"ZeroDivisionError  found.\")\n"
      ],
      "metadata": {
        "colab": {
          "base_uri": "https://localhost:8080/"
        },
        "id": "h7HaQOFWpqiN",
        "outputId": "392678b9-6c9b-40e8-cf87-fd0393794a5e"
      },
      "execution_count": 16,
      "outputs": [
        {
          "output_type": "stream",
          "name": "stderr",
          "text": [
            "ERROR:root:ZeroDivisionError  found.\n"
          ]
        }
      ]
    },
    {
      "cell_type": "code",
      "source": [
        "#Q15.Write a Python program that prints the content of a file and handles the case when the file is empty.\n",
        "def readFile(filename):\n",
        "    try:\n",
        "        with open(filename, 'r') as file:\n",
        "            content = file.read()\n",
        "            if not content:\n",
        "                print(f\"The file  is empty.\")\n",
        "            else:\n",
        "                print(\"Content :\")\n",
        "                print(content)\n",
        "    except FileNotFoundError:\n",
        "        print(\"FileNotFoundError\")\n",
        "    except Exception as e:\n",
        "        print(\"Error\")\n",
        "if __name__ == \"__main__\":\n",
        "    file= \"file.txt\"\n",
        "    readFile(file)\n"
      ],
      "metadata": {
        "colab": {
          "base_uri": "https://localhost:8080/"
        },
        "id": "L-cLcqCHp6KM",
        "outputId": "794584fa-026f-4b63-ad6b-9816477c9570"
      },
      "execution_count": 17,
      "outputs": [
        {
          "output_type": "stream",
          "name": "stdout",
          "text": [
            "Content :\n",
            "First line\n",
            "second line.\n",
            "Third line.\n",
            "\n"
          ]
        }
      ]
    },
    {
      "cell_type": "code",
      "source": [
        "#Q17.Write a Python program to create and write a list of numbers to a file, one number per line.\n",
        "def writeFile(filename, numbers):\n",
        "    try:\n",
        "        with open(filename, 'w') as file:\n",
        "            for number in numbers:\n",
        "                file.write(f\"{number}\\n\")\n",
        "        print(\"Written.\")\n",
        "    except Exception as e:\n",
        "        print(\"Error\")\n",
        "numbers_list = [1,2,7,6]\n",
        "if __name__ == \"__main__\":\n",
        "    writeFile(\"file.txt\", numbers_list)\n"
      ],
      "metadata": {
        "colab": {
          "base_uri": "https://localhost:8080/"
        },
        "id": "xrPeNrNjqHS1",
        "outputId": "3357e465-4654-4871-e907-b7e1913dc5ad"
      },
      "execution_count": 18,
      "outputs": [
        {
          "output_type": "stream",
          "name": "stdout",
          "text": [
            "Written.\n"
          ]
        }
      ]
    },
    {
      "cell_type": "code",
      "source": [
        "#Q18. How would you implement a basic logging setup that logs to a file with rotation after 1MB?\n",
        "import logging\n",
        "from logging.handlers import RotatingFileHandler\n",
        "def setup():\n",
        "    handler = RotatingFileHandler(\"app.log\", maxBytes=1 * 1024 * 1024, backupCount=3)\n",
        "    handler.setLevel(logging.DEBUG)\n",
        "    formatter = logging.Formatter(\"%(asctime)s - %(levelname)s - %(message)s\")\n",
        "    handler.setFormatter(formatter)\n",
        "    logger = logging.getLogger()\n",
        "    logger.setLevel(logging.DEBUG)\n",
        "    logger.addHandler(handler)\n",
        "setup()\n",
        "logging.info(\"Logging setup complete.\")\n",
        "logging.error(\"Error .\")\n"
      ],
      "metadata": {
        "colab": {
          "base_uri": "https://localhost:8080/"
        },
        "id": "fazg7hn_qWWJ",
        "outputId": "1fe622cf-1094-4ad7-883f-381c15b4ab9a"
      },
      "execution_count": 19,
      "outputs": [
        {
          "output_type": "stream",
          "name": "stderr",
          "text": [
            "INFO:root:Logging setup complete.\n",
            "ERROR:root:Error .\n"
          ]
        }
      ]
    },
    {
      "cell_type": "code",
      "source": [
        "#Q19.Write a program that handles both IndexError and KeyError using a try-except block.\n",
        "def handle():\n",
        "    try:\n",
        "        my_list = [3,4,6,8]\n",
        "        print(my_list[5])\n",
        "        my_dict = {\"name\": \"Bhuvan\", \"age\": 20}\n",
        "        print(my_dict[\"City\"])\n",
        "    except IndexError:\n",
        "        print(\"IndexError found!!! \")\n",
        "    except KeyError:\n",
        "        print(\" KeyError found.\")\n",
        "\n",
        "if __name__ == \"__main__\":\n",
        "    handle()\n"
      ],
      "metadata": {
        "colab": {
          "base_uri": "https://localhost:8080/"
        },
        "id": "HJ1f_Rekqg62",
        "outputId": "66bd3078-41b1-4b2f-9c44-cc6273811ce5"
      },
      "execution_count": 21,
      "outputs": [
        {
          "output_type": "stream",
          "name": "stdout",
          "text": [
            "IndexError found!!! \n"
          ]
        }
      ]
    },
    {
      "cell_type": "code",
      "source": [
        "#Q20.How would you open a file and read its contents using a context manager in Python?\n",
        "def read(filename):\n",
        "    with open(filename, 'r') as file:\n",
        "        c = file.read()\n",
        "    return c\n",
        "if __name__ == \"__main__\":\n",
        "    try:\n",
        "        file_content = read(\"example.txt\")\n",
        "        print(\"Contents:\")\n",
        "        print(file_content)\n",
        "    except FileNotFoundError:\n",
        "        print(\"FileNotFoundError found!!!\")\n"
      ],
      "metadata": {
        "colab": {
          "base_uri": "https://localhost:8080/"
        },
        "id": "SzCK5y8-q2wL",
        "outputId": "b6835180-03bd-4469-e3f8-10c283c2e6db"
      },
      "execution_count": 22,
      "outputs": [
        {
          "output_type": "stream",
          "name": "stdout",
          "text": [
            "FileNotFoundError found!!!\n"
          ]
        }
      ]
    },
    {
      "cell_type": "code",
      "source": [
        "#Q21.Write a Python program that reads a file and prints the number of occurrences of a specific word.\n",
        "def wordcount(filename, word):\n",
        "    try:\n",
        "        with open(filename, 'r') as file:\n",
        "            content = file.read()\n",
        "        word_count = content.lower().split().count(word.lower())\n",
        "        return word_count\n",
        "    except FileNotFoundError:\n",
        "        print(\"The file does not exist.\")\n",
        "        return 0\n",
        "    except Exception as e:\n",
        "        print(f\"An error occurred: {e}\")\n",
        "        return 0\n",
        "if __name__ == \"__main__\":\n",
        "    filename = \"file.txt\"\n",
        "    word = \"python\"\n",
        "    count = wordcount(filename, word)\n",
        "    print(\"Count is \" + str(count))\n"
      ],
      "metadata": {
        "colab": {
          "base_uri": "https://localhost:8080/"
        },
        "id": "CQvnxtQDrAZ2",
        "outputId": "acc6c0d7-4db5-44f9-abc9-281f40e5c8d0"
      },
      "execution_count": 25,
      "outputs": [
        {
          "output_type": "stream",
          "name": "stdout",
          "text": [
            "Count is 0\n"
          ]
        }
      ]
    },
    {
      "cell_type": "code",
      "source": [
        "#Q22. How can you check if a file is empty before attempting to read its contents?\n",
        "import os\n",
        "def isempty(filename):\n",
        "    try:\n",
        "        return os.path.getsize(filename) == 0\n",
        "    except FileNotFoundError:\n",
        "        print(\"The file does not exist.\")\n",
        "        return False\n",
        "    except Exception as e:\n",
        "        print(\"Error\")\n",
        "        return False\n",
        "if __name__ == \"__main__\":\n",
        "    filename = \"file.txt\"\n",
        "    if  isempty(filename):\n",
        "        print(\"File is empty.\")\n",
        "    else:\n",
        "        print(\"File is not empty.\")\n"
      ],
      "metadata": {
        "colab": {
          "base_uri": "https://localhost:8080/"
        },
        "id": "j30aOvktrW5C",
        "outputId": "a772b82a-2632-4bdf-8128-c363bc5a26fa"
      },
      "execution_count": 26,
      "outputs": [
        {
          "output_type": "stream",
          "name": "stdout",
          "text": [
            "File is not empty.\n"
          ]
        }
      ]
    },
    {
      "cell_type": "code",
      "source": [
        "#Q23.Write a Python program that writes to a log file when an error occurs during file handling.\n",
        "import logging\n",
        "logging.basicConfig(\n",
        "    filename=\"file_handling_errors.log\",\n",
        "    level=logging.ERROR,\n",
        "    format=\"%(asctime)s - %(levelname)s - %(message)s\"\n",
        ")\n",
        "def readFile(filename):\n",
        "    try:\n",
        "        with open(filename, 'r') as file:\n",
        "            content = file.read()\n",
        "        print(content)\n",
        "    except FileNotFoundError:\n",
        "        logging.error(\"FileNotFoundError..\")\n",
        "        print(\"The file does not exist.\")\n",
        "    except Exception as e:\n",
        "        logging.error(\"Error\")\n",
        "if __name__ == \"__main__\":\n",
        "    filename = \"example.txt\"\n",
        "    readFile(filename)\n"
      ],
      "metadata": {
        "colab": {
          "base_uri": "https://localhost:8080/"
        },
        "id": "XnSqUfCnrmOS",
        "outputId": "c0e41026-a35a-425e-8635-096154ac290b"
      },
      "execution_count": 27,
      "outputs": [
        {
          "output_type": "stream",
          "name": "stderr",
          "text": [
            "ERROR:root:FileNotFoundError..\n"
          ]
        },
        {
          "output_type": "stream",
          "name": "stdout",
          "text": [
            "The file does not exist.\n"
          ]
        }
      ]
    }
  ]
}